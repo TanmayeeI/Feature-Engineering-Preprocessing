{
 "cells": [
  {
   "cell_type": "markdown",
   "id": "cd4aa21c",
   "metadata": {},
   "source": [
    "Q1"
   ]
  },
  {
   "cell_type": "code",
   "execution_count": 1,
   "id": "482cc502",
   "metadata": {},
   "outputs": [],
   "source": [
    "import numpy as np\n",
    "\n",
    "# Array and sample\n",
    "arr = np.array([13, 25, 34, 14, 46, 34, 15, 66, 77, 13, 34, 46, 44, 22, 34, 46, 36, 69, 56, 22, 98, 30])\n",
    "sample = arr[:-1:2]"
   ]
  },
  {
   "cell_type": "code",
   "execution_count": 2,
   "id": "81ed5485",
   "metadata": {},
   "outputs": [
    {
     "name": "stdout",
     "output_type": "stream",
     "text": [
      "Population Mean: 39.72727272727273\n"
     ]
    }
   ],
   "source": [
    "# Calculate Population Mean\n",
    "pop_mean = arr.mean()\n",
    "print('Population Mean:', pop_mean)"
   ]
  },
  {
   "cell_type": "code",
   "execution_count": 3,
   "id": "65cf546e",
   "metadata": {},
   "outputs": [
    {
     "name": "stdout",
     "output_type": "stream",
     "text": [
      "Sample Mean: 44.27272727272727\n"
     ]
    }
   ],
   "source": [
    "# Calculate Sample Mean\n",
    "samp_mean = sample.mean()\n",
    "print('Sample Mean:', samp_mean)"
   ]
  },
  {
   "cell_type": "code",
   "execution_count": 4,
   "id": "47152498",
   "metadata": {},
   "outputs": [
    {
     "name": "stdout",
     "output_type": "stream",
     "text": [
      "Population Variance: 478.1983471074381\n"
     ]
    }
   ],
   "source": [
    "# Calculate Population Variance\n",
    "pop_variance = sum((x - pop_mean) ** 2 for x in arr) / len(arr)\n",
    "print('Population Variance:', pop_variance)"
   ]
  },
  {
   "cell_type": "code",
   "execution_count": 5,
   "id": "3d491d80",
   "metadata": {},
   "outputs": [
    {
     "name": "stdout",
     "output_type": "stream",
     "text": [
      "Sample Variance: 631.8181818181818\n"
     ]
    }
   ],
   "source": [
    "# Calculate Sample Variance\n",
    "samp_variance = sum((x - samp_mean) ** 2 for x in sample) / (len(sample) - 1)\n",
    "print('Sample Variance:', samp_variance)"
   ]
  },
  {
   "cell_type": "markdown",
   "id": "8ac95251",
   "metadata": {},
   "source": [
    "Q2"
   ]
  },
  {
   "cell_type": "code",
   "execution_count": 6,
   "id": "a4b7bc02",
   "metadata": {},
   "outputs": [],
   "source": [
    "import numpy as np\n",
    "\n",
    "# Arrays X and Y\n",
    "X = np.array([12, 24, 79, 13, 69, 34, 14, 66, 79, 13, 80, 46, 37, 69, 57, 23, 99, 92, 56, 22, 66, 24])\n",
    "Y = np.array([9, 37, 35, 12, 69, 22, 15, 21, 76, 37, 35, 47, 43, 21, 35, 45, 34, 100, 54, 55, 97, 35])"
   ]
  },
  {
   "cell_type": "code",
   "execution_count": 7,
   "id": "3d8323b7",
   "metadata": {},
   "outputs": [],
   "source": [
    "# Calculate means of X and Y\n",
    "mean_x = X.mean()\n",
    "mean_y = Y.mean()"
   ]
  },
  {
   "cell_type": "code",
   "execution_count": 8,
   "id": "1fb40b1f",
   "metadata": {},
   "outputs": [],
   "source": [
    "# Calculate covariance\n",
    "n = len(X)\n",
    "cov = sum((X[i] - mean_x) * (Y[i] - mean_y) for i in range(n)) / (n - 1)"
   ]
  },
  {
   "cell_type": "code",
   "execution_count": 9,
   "id": "3b8e0cf5",
   "metadata": {},
   "outputs": [
    {
     "name": "stdout",
     "output_type": "stream",
     "text": [
      "Covariance: 332.6103896103895\n"
     ]
    }
   ],
   "source": [
    "print('Covariance:', cov)"
   ]
  },
  {
   "cell_type": "markdown",
   "id": "74f1d15f",
   "metadata": {},
   "source": [
    "Q3"
   ]
  },
  {
   "cell_type": "code",
   "execution_count": 10,
   "id": "050c0820",
   "metadata": {},
   "outputs": [],
   "source": [
    "import numpy as np\n",
    "import math\n",
    "\n",
    "# Arrays X and Y\n",
    "X = np.array([12, 24, 79, 13, 69, 34, 14, 66, 79, 13, 80, 46, 37, 69, 57, 23, 99, 92, 56, 22, 66, 24])\n",
    "Y = np.array([9, 37, 35, 12, 69, 22, 15, 21, 76, 37, 35, 47, 43, 21, 35, 45, 34, 100, 54, 55, 97, 35])"
   ]
  },
  {
   "cell_type": "code",
   "execution_count": 11,
   "id": "525d01f7",
   "metadata": {},
   "outputs": [],
   "source": [
    "# Variance function\n",
    "def variance(data, mean, n):\n",
    "    return sum((x - mean) ** 2 for x in data) / (n - 1)"
   ]
  },
  {
   "cell_type": "code",
   "execution_count": 12,
   "id": "89b2fd1e",
   "metadata": {},
   "outputs": [],
   "source": [
    "# Calculate variances\n",
    "var_X = variance(X, X.mean(), len(X))\n",
    "var_Y = variance(Y, Y.mean(), len(Y))"
   ]
  },
  {
   "cell_type": "code",
   "execution_count": 13,
   "id": "da6648f3",
   "metadata": {},
   "outputs": [
    {
     "name": "stdout",
     "output_type": "stream",
     "text": [
      "Variance of X: 800.9177489177489\n",
      "Variance of Y: 615.5930735930735\n"
     ]
    }
   ],
   "source": [
    "print('Variance of X:', var_X)\n",
    "print('Variance of Y:', var_Y)"
   ]
  },
  {
   "cell_type": "code",
   "execution_count": 14,
   "id": "1b26a171",
   "metadata": {},
   "outputs": [],
   "source": [
    "# Calculate means of X and Y\n",
    "mean_x = X.mean()\n",
    "mean_y = Y.mean()"
   ]
  },
  {
   "cell_type": "code",
   "execution_count": 15,
   "id": "98138efe",
   "metadata": {},
   "outputs": [],
   "source": [
    "# Calculate covariance\n",
    "cov = sum((X[i] - mean_x) * (Y[i] - mean_y) for i in range(len(X))) / (len(X) - 1)"
   ]
  },
  {
   "cell_type": "code",
   "execution_count": 16,
   "id": "b57aa281",
   "metadata": {},
   "outputs": [],
   "source": [
    "# Calculate correlation\n",
    "cor = cov / math.sqrt(var_X * var_Y)"
   ]
  },
  {
   "cell_type": "code",
   "execution_count": 17,
   "id": "9d98d1ef",
   "metadata": {},
   "outputs": [
    {
     "name": "stdout",
     "output_type": "stream",
     "text": [
      "Correlation: 0.47369084323686783\n"
     ]
    }
   ],
   "source": [
    "print('Correlation:', cor)"
   ]
  },
  {
   "cell_type": "markdown",
   "id": "f1479769",
   "metadata": {},
   "source": [
    "Q4"
   ]
  },
  {
   "cell_type": "code",
   "execution_count": 18,
   "id": "3bbe81a5",
   "metadata": {},
   "outputs": [],
   "source": [
    "import numpy as np\n",
    "import seaborn as sns\n",
    "import matplotlib.pyplot as plt"
   ]
  },
  {
   "cell_type": "code",
   "execution_count": 19,
   "id": "17e51900",
   "metadata": {},
   "outputs": [],
   "source": [
    "# Step 1: Create a random MxN matrix (M features and N samples)\n",
    "M = 5  # Number of features\n",
    "N = 10  # Number of samples\n",
    "np.random.seed(0)\n",
    "matrix = np.random.rand(M, N)"
   ]
  },
  {
   "cell_type": "code",
   "execution_count": 20,
   "id": "a8470087",
   "metadata": {},
   "outputs": [
    {
     "name": "stdout",
     "output_type": "stream",
     "text": [
      "Matrix of MxN (M=5, N=10):\n",
      " [[0.5488135  0.71518937 0.60276338 0.54488318 0.4236548  0.64589411\n",
      "  0.43758721 0.891773   0.96366276 0.38344152]\n",
      " [0.79172504 0.52889492 0.56804456 0.92559664 0.07103606 0.0871293\n",
      "  0.0202184  0.83261985 0.77815675 0.87001215]\n",
      " [0.97861834 0.79915856 0.46147936 0.78052918 0.11827443 0.63992102\n",
      "  0.14335329 0.94466892 0.52184832 0.41466194]\n",
      " [0.26455561 0.77423369 0.45615033 0.56843395 0.0187898  0.6176355\n",
      "  0.61209572 0.616934   0.94374808 0.6818203 ]\n",
      " [0.3595079  0.43703195 0.6976312  0.06022547 0.66676672 0.67063787\n",
      "  0.21038256 0.1289263  0.31542835 0.36371077]]\n"
     ]
    }
   ],
   "source": [
    "# Display the matrix\n",
    "print(\"Matrix of MxN (M=5, N=10):\\n\", matrix)"
   ]
  },
  {
   "cell_type": "code",
   "execution_count": 21,
   "id": "7ca413e6",
   "metadata": {},
   "outputs": [],
   "source": [
    "# Step 2: Compute the covariance matrix\n",
    "cov_matrix = np.zeros((M, M))\n",
    "for i in range(M):\n",
    "    for j in range(M):\n",
    "        mean_i = np.mean(matrix[i])\n",
    "        mean_j = np.mean(matrix[j])\n",
    "        cov_matrix[i, j] = np.sum((matrix[i] - mean_i) * (matrix[j] - mean_j)) / (N - 1)"
   ]
  },
  {
   "cell_type": "code",
   "execution_count": 22,
   "id": "348a2f0f",
   "metadata": {},
   "outputs": [
    {
     "name": "stdout",
     "output_type": "stream",
     "text": [
      "\n",
      "Covariance Matrix:\n",
      " [[ 0.03781221  0.02337308  0.02995218  0.02879742 -0.00872352]\n",
      " [ 0.02337308  0.12876287  0.06961591  0.03031193 -0.04368456]\n",
      " [ 0.02995218  0.06961591  0.09248096  0.01689937 -0.02483412]\n",
      " [ 0.02879742  0.03031193  0.01689937  0.06756888 -0.0228058 ]\n",
      " [-0.00872352 -0.04368456 -0.02483412 -0.0228058   0.05206121]]\n"
     ]
    }
   ],
   "source": [
    "print(\"\\nCovariance Matrix:\\n\", cov_matrix)"
   ]
  },
  {
   "cell_type": "code",
   "execution_count": 23,
   "id": "1fb77212",
   "metadata": {},
   "outputs": [],
   "source": [
    "# Step 3: Compute the correlation matrix\n",
    "corr_matrix = np.zeros((M, M))\n",
    "for i in range(M):\n",
    "    for j in range(M):\n",
    "        var_i = np.sum((matrix[i] - np.mean(matrix[i]))**2) / (N - 1)\n",
    "        var_j = np.sum((matrix[j] - np.mean(matrix[j]))**2) / (N - 1)\n",
    "        corr_matrix[i, j] = cov_matrix[i, j] / np.sqrt(var_i * var_j)"
   ]
  },
  {
   "cell_type": "code",
   "execution_count": 24,
   "id": "6b5132ae",
   "metadata": {},
   "outputs": [
    {
     "name": "stdout",
     "output_type": "stream",
     "text": [
      "\n",
      "Correlation Matrix:\n",
      " [[ 1.          0.33496905  0.50650793  0.56972358 -0.19661601]\n",
      " [ 0.33496905  1.          0.63795055  0.32497122 -0.5335505 ]\n",
      " [ 0.50650793  0.63795055  1.          0.21378191 -0.35790313]\n",
      " [ 0.56972358  0.32497122  0.21378191  1.         -0.38451644]\n",
      " [-0.19661601 -0.5335505  -0.35790313 -0.38451644  1.        ]]\n"
     ]
    }
   ],
   "source": [
    "print(\"\\nCorrelation Matrix:\\n\", corr_matrix)"
   ]
  },
  {
   "cell_type": "code",
   "execution_count": 25,
   "id": "d290d301",
   "metadata": {},
   "outputs": [
    {
     "data": {
      "text/plain": [
       "<Figure size 1200x500 with 0 Axes>"
      ]
     },
     "execution_count": 25,
     "metadata": {},
     "output_type": "execute_result"
    },
    {
     "data": {
      "text/plain": [
       "<Figure size 1200x500 with 0 Axes>"
      ]
     },
     "metadata": {},
     "output_type": "display_data"
    }
   ],
   "source": [
    "# Visualize the matrices\n",
    "plt.figure(figsize=(12, 5))"
   ]
  },
  {
   "cell_type": "code",
   "execution_count": 26,
   "id": "e8cd3aeb",
   "metadata": {},
   "outputs": [
    {
     "data": {
      "text/plain": [
       "Text(0.5, 1.0, 'Covariance Matrix')"
      ]
     },
     "execution_count": 26,
     "metadata": {},
     "output_type": "execute_result"
    },
    {
     "data": {
      "image/png": "[encoded data removed]",
      "text/plain": [
       "<Figure size 640x480 with 2 Axes>"
      ]
     },
     "metadata": {},
     "output_type": "display_data"
    }
   ],
   "source": [
    "# Covariance matrix heatmap\n",
    "plt.subplot(1, 2, 1)\n",
    "sns.heatmap(cov_matrix, annot=True, fmt=\".2f\", cmap=\"coolwarm\")\n",
    "plt.title(\"Covariance Matrix\")"
   ]
  },
  {
   "cell_type": "code",
   "execution_count": 27,
   "id": "28df1358",
   "metadata": {},
   "outputs": [
    {
     "data": {
      "text/plain": [
       "Text(0.5, 1.0, 'Correlation Matrix')"
      ]
     },
     "execution_count": 27,
     "metadata": {},
     "output_type": "execute_result"
    },
    {
     "data": {
      "image/png": "[encoded data removed]",
      "text/plain": [
       "<Figure size 640x480 with 2 Axes>"
      ]
     },
     "metadata": {},
     "output_type": "display_data"
    }
   ],
   "source": [
    "# Correlation matrix heatmap\n",
    "plt.subplot(1, 2, 2)\n",
    "sns.heatmap(corr_matrix, annot=True, fmt=\".2f\", cmap=\"coolwarm\")\n",
    "plt.title(\"Correlation Matrix\")"
   ]
  },
  {
   "cell_type": "code",
   "execution_count": 28,
   "id": "24e3efb5",
   "metadata": {},
   "outputs": [],
   "source": [
    "plt.show()"
   ]
  }
 ],
 "metadata": {
  "kernelspec": {
   "display_name": "Python 3 (ipykernel)",
   "language": "python",
   "name": "python3"
  },
  "language_info": {
   "codemirror_mode": {
    "name": "ipython",
    "version": 3
   },
   "file_extension": ".py",
   "mimetype": "text/x-python",
   "name": "python",
   "nbconvert_exporter": "python",
   "pygments_lexer": "ipython3",
   "version": "3.11.4"
  }
 },
 "nbformat": 4,
 "nbformat_minor": 5
}
